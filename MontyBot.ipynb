{
  "cells": [
    {
      "cell_type": "code",
      "execution_count": null,
      "metadata": {
        "colab": {
          "base_uri": "https://localhost:8080/"
        },
        "id": "n2EJ6aRxuklX",
        "outputId": "958e1f32-0cda-4e81-b8ab-b68f3072aa4f"
      },
      "outputs": [],
      "source": [
        "%pip install langchain\n",
        "%pip install openai"
      ]
    },
    {
      "cell_type": "code",
      "execution_count": 2,
      "metadata": {
        "id": "5XQ8mxDKLeVO"
      },
      "outputs": [],
      "source": [
        "from langchain import OpenAI, SQLDatabase, SQLDatabaseChain\n",
        "import openai\n"
      ]
    },
    {
      "cell_type": "code",
      "execution_count": null,
      "metadata": {
        "colab": {
          "base_uri": "https://localhost:8080/"
        },
        "id": "Vl3gCodTZLzZ",
        "outputId": "34058312-99a8-4cfe-edd4-de9dcf87aab6"
      },
      "outputs": [],
      "source": [
        "from google.colab import drive\n",
        "drive.mount('/content/gdrive')"
      ]
    },
    {
      "cell_type": "code",
      "execution_count": 4,
      "metadata": {
        "cellView": "form",
        "id": "9tkc4n4GdT_s"
      },
      "outputs": [],
      "source": [
        "\n",
        "#@title Variables\n",
        "OPENAI_API_KEY = \"YOUR_KEY_HERE\" #@param {type:\"string\"}"
      ]
    },
    {
      "cell_type": "code",
      "execution_count": 5,
      "metadata": {
        "id": "GkocMFz-uuFt"
      },
      "outputs": [],
      "source": [
        "llm = OpenAI(temperature=0, verbose=True, openai_api_key=OPENAI_API_KEY, model='text-davinci-003')\n",
        "db = SQLDatabase.from_uri(\"sqlite:////content/gdrive/MyDrive/Colab Notebooks/daytonprops.db\")\n",
        "\n",
        "db_chain = SQLDatabaseChain.from_llm(llm, db, verbose=True, use_query_checker=True, return_intermediate_steps=True)\n"
      ]
    },
    {
      "cell_type": "code",
      "execution_count": null,
      "metadata": {
        "colab": {
          "base_uri": "https://localhost:8080/"
        },
        "id": "9NuPJfGHbbrU",
        "outputId": "8a79e5fd-cea7-4678-95b9-4dbb6eace4dd"
      },
      "outputs": [],
      "source": [
        "result = db_chain(\"How many parcels are in the file?\")\n",
        "print(result)"
      ]
    },
    {
      "cell_type": "code",
      "execution_count": 7,
      "metadata": {
        "colab": {
          "base_uri": "https://localhost:8080/"
        },
        "id": "-3QlbBM5kAEu",
        "outputId": "388e6728-7353-43eb-f6a5-01e3e12e8482"
      },
      "outputs": [
        {
          "name": "stdout",
          "output_type": "stream",
          "text": [
            "\n",
            "\n",
            "\u001b[1m> Entering new SQLDatabaseChain chain...\u001b[0m\n",
            "what are the addresses of the 5 largest properties owned by the city?\n",
            "SQLQuery:\u001b[32;1m\u001b[1;3mSELECT \"PADDR1\", \"PADDR2\", \"PADDR3\", \"ACRES\" FROM daytonprops WHERE \"OWNERNAME1\" = 'DAYTON CITY OF' ORDER BY \"ACRES\" DESC LIMIT 5;\u001b[0m\n",
            "SQLResult: \u001b[33;1m\u001b[1;3m[('3600 TERMINAL DR STE 300', None, 'VANDALIA OH 45377', 879.2031), ('MUNICIPAL BG', None, 'DAYTON OH 45402', 694.565), ('101 W 3RD ST', None, 'DAYTON OH 45402 1814', 369.013), ('MUNICIPAL BG', None, 'DAYTON OH 45402', 326.38), ('101 W 3RD ST', None, 'DAYTON OH 45402 1814', 100.926)]\u001b[0m\n",
            "Answer:\u001b[32;1m\u001b[1;3mThe 5 largest properties owned by the city are located at 3600 Terminal Dr Ste 300, Vandalia OH 45377 (879.2031 acres), Municipal BG, Dayton OH 45402 (694.565 acres), 101 W 3rd St, Dayton OH 45402 1814 (369.013 acres), Municipal BG, Dayton OH 45402 (326.38 acres), and 101 W 3rd St, Dayton OH 45402 1814 (100.926 acres).\u001b[0m\n",
            "\u001b[1m> Finished chain.\u001b[0m\n"
          ]
        }
      ],
      "source": [
        "result = db_chain(\"what are the addresses of the 5 largest properties owned by the city?\")"
      ]
    },
    {
      "cell_type": "code",
      "execution_count": 9,
      "metadata": {
        "colab": {
          "base_uri": "https://localhost:8080/"
        },
        "id": "obTEK12AmaRR",
        "outputId": "f0fa9041-3983-4820-e982-6927f61aa359"
      },
      "outputs": [
        {
          "data": {
            "text/plain": [
              "{'query': 'what are the addresses of the 5 largest properties owned by the city?',\n",
              " 'result': 'The 5 largest properties owned by the city are located at 3600 Terminal Dr Ste 300, Vandalia OH 45377 (879.2031 acres), Municipal BG, Dayton OH 45402 (694.565 acres), 101 W 3rd St, Dayton OH 45402 1814 (369.013 acres), Municipal BG, Dayton OH 45402 (326.38 acres), and 101 W 3rd St, Dayton OH 45402 1814 (100.926 acres).',\n",
              " 'intermediate_steps': [{'input': 'what are the addresses of the 5 largest properties owned by the city?\\nSQLQuery:SELECT \"PADDR1\", \"PADDR2\", \"PADDR3\", \"ACRES\" FROM daytonprops WHERE \"OWNERNAME1\" = \\'DAYTON CITY OF\\' ORDER BY \"ACRES\" DESC LIMIT 5;\\nSQLResult: [(\\'3600 TERMINAL DR STE 300\\', None, \\'VANDALIA OH 45377\\', 879.2031), (\\'MUNICIPAL BG\\', None, \\'DAYTON OH 45402\\', 694.565), (\\'101 W 3RD ST\\', None, \\'DAYTON OH 45402 1814\\', 369.013), (\\'MUNICIPAL BG\\', None, \\'DAYTON OH 45402\\', 326.38), (\\'101 W 3RD ST\\', None, \\'DAYTON OH 45402 1814\\', 100.926)]\\nAnswer:',\n",
              "   'top_k': '5',\n",
              "   'dialect': 'sqlite',\n",
              "   'table_info': '\\nCREATE TABLE daytonprops (\\n\\t\"PARCELID\" TEXT, \\n\\t\"FULLYRAMTDUE\" REAL, \\n\\t\"NETDELQ\" REAL, \\n\\t\"PARCELLOCATION\" TEXT, \\n\\t\"LEGAL1\" TEXT, \\n\\t\"LEGAL2\" TEXT, \\n\\t\"LEGAL3\" TEXT, \\n\\t\"ACRES\" REAL, \\n\\t\"TXDST\" TEXT, \\n\\t\"CLS\" TEXT, \\n\\t\"LUC\" INTEGER, \\n\\t\"AGLAND\" INTEGER, \\n\\t\"ASMTLAND\" INTEGER, \\n\\t\"ASMTBLDG\" INTEGER, \\n\\t\"ASMTTOTAL\" INTEGER, \\n\\t\"TAXABLELAND\" INTEGER, \\n\\t\"TAXABLEBLDG\" INTEGER, \\n\\t\"PUBLICUTILITY\" INTEGER, \\n\\t\"ROLLTYPE\" TEXT, \\n\\t\"TAXABLETOTAL\" INTEGER, \\n\\t\"OWNERNAME1\" TEXT, \\n\\t\"OWNERNAME2\" TEXT, \\n\\t\"MAILINGNAME1\" TEXT, \\n\\t\"MAILINGNAME2\" TEXT, \\n\\t\"PADDR1\" TEXT, \\n\\t\"PADDR2\" TEXT, \\n\\t\"PADDR3\" TEXT, \\n\\t\"MORTCO\" INTEGER, \\n\\t\"NBHD\" TEXT, \\n\\t\"ASMTWEN\" TEXT, \\n\\t\"AC\" TEXT, \\n\\t\"HMSDLAND\" INTEGER, \\n\\t\"HMSDBLDG\" INTEGER, \\n\\t\"FRCLSR\" TEXT, \\n\\t\"SALESDTE\" TEXT, \\n\\t\"PRICE\" INTEGER, \\n\\t\"YRBL\" INTEGER, \\n\\t\"GROSSRATE\" REAL, \\n\\t\"EFFRATE\" REAL, \\n\\t\"REDRATE\" REAL, \\n\\t\"DUEDATE\" TEXT, \\n\\t\"B\" INTEGER, \\n\\t\"HLF1DELQ\" REAL, \\n\\t\"RENTALREG\" TEXT, \\n\\t\"AETASMTLAND\" INTEGER, \\n\\t\"AETASMTBLDG\" INTEGER, \\n\\t\"AETASMTTOTAL\" INTEGER, \\n\\t\"AETTAXABLELAND\" INTEGER, \\n\\t\"AETTAXABLEBLDG\" INTEGER, \\n\\t\"AETTAXABLETOTAL\" INTEGER, \\n\\t\"CASMTLAND\" INTEGER, \\n\\t\"CTAXABLELAND\" INTEGER, \\n\\t\"HMSDFLAG\" TEXT, \\n\\t\"SQ_FT\" INTEGER, \\n\\t\"DYTNCRDT\" TEXT, \\n\\t\"OWNOCC\" TEXT, \\n\\t\"CITY_TOWNSHIP\" INTEGER, \\n\\t\"SCHOOL_DISTRICT\" INTEGER, \\n\\t\"PARCEL_LOCATION_ZIP\" INTEGER, \\n\\t\"CENSUS_TRACT\" TEXT, \\n\\tlat REAL, \\n\\tlon REAL\\n)\\n\\n/*\\n3 rows from daytonprops table:\\nPARCELID\\tFULLYRAMTDUE\\tNETDELQ\\tPARCELLOCATION\\tLEGAL1\\tLEGAL2\\tLEGAL3\\tACRES\\tTXDST\\tCLS\\tLUC\\tAGLAND\\tASMTLAND\\tASMTBLDG\\tASMTTOTAL\\tTAXABLELAND\\tTAXABLEBLDG\\tPUBLICUTILITY\\tROLLTYPE\\tTAXABLETOTAL\\tOWNERNAME1\\tOWNERNAME2\\tMAILINGNAME1\\tMAILINGNAME2\\tPADDR1\\tPADDR2\\tPADDR3\\tMORTCO\\tNBHD\\tASMTWEN\\tAC\\tHMSDLAND\\tHMSDBLDG\\tFRCLSR\\tSALESDTE\\tPRICE\\tYRBL\\tGROSSRATE\\tEFFRATE\\tREDRATE\\tDUEDATE\\tB\\tHLF1DELQ\\tRENTALREG\\tAETASMTLAND\\tAETASMTBLDG\\tAETASMTTOTAL\\tAETTAXABLELAND\\tAETTAXABLEBLDG\\tAETTAXABLETOTAL\\tCASMTLAND\\tCTAXABLELAND\\tHMSDFLAG\\tSQ_FT\\tDYTNCRDT\\tOWNOCC\\tCITY_TOWNSHIP\\tSCHOOL_DISTRICT\\tPARCEL_LOCATION_ZIP\\tCENSUS_TRACT\\tlat\\tlon\\nR72 00101 0001\\t0.0\\t0.0\\tROBERT DR\\t126 PT RIVERBANK\\t1E(.008) 1E1(.007)\\tEXEMPT\\t1.146\\tR72\\tE\\t640\\t0\\t220\\t0\\t220\\t80\\t0\\t0\\tRP_OH\\t80\\tDAYTON CITY OF\\tNone\\tCITY OF DAYTON\\tNone\\t101 W 3RD ST\\tNone\\tDAYTON OH 45401\\t3001\\tC1500000\\t06-JAN-22\\tN\\t220\\t0\\tNone\\t02-JAN-03\\tNone\\tNone\\t116.28\\t107.133485\\t0.078659\\t15-JUL-22\\t2\\t0.0\\tN\\t0\\t0\\t0\\t0\\t0\\t0\\t0\\t0\\tN\\t0\\tN\\tN\\tNone\\tNone\\t45409\\t39113-001501-1\\t39.757987\\t-84.203876\\nR72 00101 0002\\t0.0\\t0.0\\tROBERT DR\\t126 PT\\tNone\\tNone\\t0.0\\tR72\\tE\\t670\\t0\\t220\\t0\\t220\\t80\\t0\\t0\\tRP_OH\\t80\\tMIAMI CONSERVANCY DIST\\tNone\\tMIAMI CONSERVANCY DIST\\tNone\\t38 E MONUMENT AVE\\tNone\\tDAYTON OH 45402 1210\\t3121\\tC1500000\\t06-JAN-22\\tN\\t220\\t0\\tNone\\tNone\\tNone\\tNone\\t116.28\\t107.133485\\t0.078659\\t15-JUL-22\\t2\\t0.0\\tN\\t0\\t0\\t0\\t0\\t0\\t0\\t0\\t0\\tN\\t0\\tN\\tN\\tNone\\tNone\\t45409\\t39113-001501-1\\t39.758832\\t-84.204194\\nR72 00101 0003\\t0.0\\t0.0\\tROBERT DR\\t125 PT\\tNone\\tNone\\t0.0\\tR72\\tE\\t665\\t0\\t220\\t0\\t220\\t80\\t0\\t0\\tRP_OH\\t80\\tMIAMI CONSERVANCY DIST\\tNone\\tMIAMI CONSERVANCY DIST\\tNone\\t38 E MONUMENT AVE\\tNone\\tDAYTON OH 45402 1210\\t3121\\tC1500000\\t06-JAN-22\\tN\\t220\\t0\\tNone\\tNone\\tNone\\tNone\\t116.28\\t107.133485\\t0.078659\\t15-JUL-22\\t2\\t0.0\\tN\\t0\\t0\\t0\\t0\\t0\\t0\\t0\\t0\\tN\\t0\\tN\\tN\\tNone\\tNone\\tNone\\t39113-001501-1\\t39.759657\\t-84.204154\\n*/',\n",
              "   'stop': ['\\nSQLResult:']},\n",
              "  'SELECT \"PADDR1\", \"PADDR2\", \"PADDR3\", \"ACRES\" FROM daytonprops WHERE \"OWNERNAME1\" = \\'DAYTON CITY OF\\' ORDER BY \"ACRES\" DESC LIMIT 5;',\n",
              "  {'sql_cmd': 'SELECT \"PADDR1\", \"PADDR2\", \"PADDR3\", \"ACRES\" FROM daytonprops WHERE \"OWNERNAME1\" = \\'DAYTON CITY OF\\' ORDER BY \"ACRES\" DESC LIMIT 5;'},\n",
              "  \"[('3600 TERMINAL DR STE 300', None, 'VANDALIA OH 45377', 879.2031), ('MUNICIPAL BG', None, 'DAYTON OH 45402', 694.565), ('101 W 3RD ST', None, 'DAYTON OH 45402 1814', 369.013), ('MUNICIPAL BG', None, 'DAYTON OH 45402', 326.38), ('101 W 3RD ST', None, 'DAYTON OH 45402 1814', 100.926)]\",\n",
              "  {'input': 'what are the addresses of the 5 largest properties owned by the city?\\nSQLQuery:SELECT \"PADDR1\", \"PADDR2\", \"PADDR3\", \"ACRES\" FROM daytonprops WHERE \"OWNERNAME1\" = \\'DAYTON CITY OF\\' ORDER BY \"ACRES\" DESC LIMIT 5;\\nSQLResult: [(\\'3600 TERMINAL DR STE 300\\', None, \\'VANDALIA OH 45377\\', 879.2031), (\\'MUNICIPAL BG\\', None, \\'DAYTON OH 45402\\', 694.565), (\\'101 W 3RD ST\\', None, \\'DAYTON OH 45402 1814\\', 369.013), (\\'MUNICIPAL BG\\', None, \\'DAYTON OH 45402\\', 326.38), (\\'101 W 3RD ST\\', None, \\'DAYTON OH 45402 1814\\', 100.926)]\\nAnswer:',\n",
              "   'top_k': '5',\n",
              "   'dialect': 'sqlite',\n",
              "   'table_info': '\\nCREATE TABLE daytonprops (\\n\\t\"PARCELID\" TEXT, \\n\\t\"FULLYRAMTDUE\" REAL, \\n\\t\"NETDELQ\" REAL, \\n\\t\"PARCELLOCATION\" TEXT, \\n\\t\"LEGAL1\" TEXT, \\n\\t\"LEGAL2\" TEXT, \\n\\t\"LEGAL3\" TEXT, \\n\\t\"ACRES\" REAL, \\n\\t\"TXDST\" TEXT, \\n\\t\"CLS\" TEXT, \\n\\t\"LUC\" INTEGER, \\n\\t\"AGLAND\" INTEGER, \\n\\t\"ASMTLAND\" INTEGER, \\n\\t\"ASMTBLDG\" INTEGER, \\n\\t\"ASMTTOTAL\" INTEGER, \\n\\t\"TAXABLELAND\" INTEGER, \\n\\t\"TAXABLEBLDG\" INTEGER, \\n\\t\"PUBLICUTILITY\" INTEGER, \\n\\t\"ROLLTYPE\" TEXT, \\n\\t\"TAXABLETOTAL\" INTEGER, \\n\\t\"OWNERNAME1\" TEXT, \\n\\t\"OWNERNAME2\" TEXT, \\n\\t\"MAILINGNAME1\" TEXT, \\n\\t\"MAILINGNAME2\" TEXT, \\n\\t\"PADDR1\" TEXT, \\n\\t\"PADDR2\" TEXT, \\n\\t\"PADDR3\" TEXT, \\n\\t\"MORTCO\" INTEGER, \\n\\t\"NBHD\" TEXT, \\n\\t\"ASMTWEN\" TEXT, \\n\\t\"AC\" TEXT, \\n\\t\"HMSDLAND\" INTEGER, \\n\\t\"HMSDBLDG\" INTEGER, \\n\\t\"FRCLSR\" TEXT, \\n\\t\"SALESDTE\" TEXT, \\n\\t\"PRICE\" INTEGER, \\n\\t\"YRBL\" INTEGER, \\n\\t\"GROSSRATE\" REAL, \\n\\t\"EFFRATE\" REAL, \\n\\t\"REDRATE\" REAL, \\n\\t\"DUEDATE\" TEXT, \\n\\t\"B\" INTEGER, \\n\\t\"HLF1DELQ\" REAL, \\n\\t\"RENTALREG\" TEXT, \\n\\t\"AETASMTLAND\" INTEGER, \\n\\t\"AETASMTBLDG\" INTEGER, \\n\\t\"AETASMTTOTAL\" INTEGER, \\n\\t\"AETTAXABLELAND\" INTEGER, \\n\\t\"AETTAXABLEBLDG\" INTEGER, \\n\\t\"AETTAXABLETOTAL\" INTEGER, \\n\\t\"CASMTLAND\" INTEGER, \\n\\t\"CTAXABLELAND\" INTEGER, \\n\\t\"HMSDFLAG\" TEXT, \\n\\t\"SQ_FT\" INTEGER, \\n\\t\"DYTNCRDT\" TEXT, \\n\\t\"OWNOCC\" TEXT, \\n\\t\"CITY_TOWNSHIP\" INTEGER, \\n\\t\"SCHOOL_DISTRICT\" INTEGER, \\n\\t\"PARCEL_LOCATION_ZIP\" INTEGER, \\n\\t\"CENSUS_TRACT\" TEXT, \\n\\tlat REAL, \\n\\tlon REAL\\n)\\n\\n/*\\n3 rows from daytonprops table:\\nPARCELID\\tFULLYRAMTDUE\\tNETDELQ\\tPARCELLOCATION\\tLEGAL1\\tLEGAL2\\tLEGAL3\\tACRES\\tTXDST\\tCLS\\tLUC\\tAGLAND\\tASMTLAND\\tASMTBLDG\\tASMTTOTAL\\tTAXABLELAND\\tTAXABLEBLDG\\tPUBLICUTILITY\\tROLLTYPE\\tTAXABLETOTAL\\tOWNERNAME1\\tOWNERNAME2\\tMAILINGNAME1\\tMAILINGNAME2\\tPADDR1\\tPADDR2\\tPADDR3\\tMORTCO\\tNBHD\\tASMTWEN\\tAC\\tHMSDLAND\\tHMSDBLDG\\tFRCLSR\\tSALESDTE\\tPRICE\\tYRBL\\tGROSSRATE\\tEFFRATE\\tREDRATE\\tDUEDATE\\tB\\tHLF1DELQ\\tRENTALREG\\tAETASMTLAND\\tAETASMTBLDG\\tAETASMTTOTAL\\tAETTAXABLELAND\\tAETTAXABLEBLDG\\tAETTAXABLETOTAL\\tCASMTLAND\\tCTAXABLELAND\\tHMSDFLAG\\tSQ_FT\\tDYTNCRDT\\tOWNOCC\\tCITY_TOWNSHIP\\tSCHOOL_DISTRICT\\tPARCEL_LOCATION_ZIP\\tCENSUS_TRACT\\tlat\\tlon\\nR72 00101 0001\\t0.0\\t0.0\\tROBERT DR\\t126 PT RIVERBANK\\t1E(.008) 1E1(.007)\\tEXEMPT\\t1.146\\tR72\\tE\\t640\\t0\\t220\\t0\\t220\\t80\\t0\\t0\\tRP_OH\\t80\\tDAYTON CITY OF\\tNone\\tCITY OF DAYTON\\tNone\\t101 W 3RD ST\\tNone\\tDAYTON OH 45401\\t3001\\tC1500000\\t06-JAN-22\\tN\\t220\\t0\\tNone\\t02-JAN-03\\tNone\\tNone\\t116.28\\t107.133485\\t0.078659\\t15-JUL-22\\t2\\t0.0\\tN\\t0\\t0\\t0\\t0\\t0\\t0\\t0\\t0\\tN\\t0\\tN\\tN\\tNone\\tNone\\t45409\\t39113-001501-1\\t39.757987\\t-84.203876\\nR72 00101 0002\\t0.0\\t0.0\\tROBERT DR\\t126 PT\\tNone\\tNone\\t0.0\\tR72\\tE\\t670\\t0\\t220\\t0\\t220\\t80\\t0\\t0\\tRP_OH\\t80\\tMIAMI CONSERVANCY DIST\\tNone\\tMIAMI CONSERVANCY DIST\\tNone\\t38 E MONUMENT AVE\\tNone\\tDAYTON OH 45402 1210\\t3121\\tC1500000\\t06-JAN-22\\tN\\t220\\t0\\tNone\\tNone\\tNone\\tNone\\t116.28\\t107.133485\\t0.078659\\t15-JUL-22\\t2\\t0.0\\tN\\t0\\t0\\t0\\t0\\t0\\t0\\t0\\t0\\tN\\t0\\tN\\tN\\tNone\\tNone\\t45409\\t39113-001501-1\\t39.758832\\t-84.204194\\nR72 00101 0003\\t0.0\\t0.0\\tROBERT DR\\t125 PT\\tNone\\tNone\\t0.0\\tR72\\tE\\t665\\t0\\t220\\t0\\t220\\t80\\t0\\t0\\tRP_OH\\t80\\tMIAMI CONSERVANCY DIST\\tNone\\tMIAMI CONSERVANCY DIST\\tNone\\t38 E MONUMENT AVE\\tNone\\tDAYTON OH 45402 1210\\t3121\\tC1500000\\t06-JAN-22\\tN\\t220\\t0\\tNone\\tNone\\tNone\\tNone\\t116.28\\t107.133485\\t0.078659\\t15-JUL-22\\t2\\t0.0\\tN\\t0\\t0\\t0\\t0\\t0\\t0\\t0\\t0\\tN\\t0\\tN\\tN\\tNone\\tNone\\tNone\\t39113-001501-1\\t39.759657\\t-84.204154\\n*/',\n",
              "   'stop': ['\\nSQLResult:']},\n",
              "  'The 5 largest properties owned by the city are located at 3600 Terminal Dr Ste 300, Vandalia OH 45377 (879.2031 acres), Municipal BG, Dayton OH 45402 (694.565 acres), 101 W 3rd St, Dayton OH 45402 1814 (369.013 acres), Municipal BG, Dayton OH 45402 (326.38 acres), and 101 W 3rd St, Dayton OH 45402 1814 (100.926 acres).']}"
            ]
          },
          "execution_count": 9,
          "metadata": {},
          "output_type": "execute_result"
        }
      ],
      "source": [
        "result"
      ]
    },
    {
      "cell_type": "code",
      "execution_count": 18,
      "metadata": {
        "colab": {
          "base_uri": "https://localhost:8080/"
        },
        "id": "7FbSeM3q9Zk5",
        "outputId": "3b8ae66b-2086-49f1-ea8f-40323d43cb13"
      },
      "outputs": [
        {
          "name": "stdout",
          "output_type": "stream",
          "text": [
            "0: {'input': 'what are the addresses of the 5 largest properties owned by the city?\\nSQLQuery:SELECT \"PADDR1\", \"PADDR2\", \"PADDR3\", \"ACRES\" FROM daytonprops WHERE \"OWNERNAME1\" = \\'DAYTON CITY OF\\' ORDER BY \"ACRES\" DESC LIMIT 5;\\nSQLResult: [(\\'3600 TERMINAL DR STE 300\\', None, \\'VANDALIA OH 45377\\', 879.2031), (\\'MUNICIPAL BG\\', None, \\'DAYTON OH 45402\\', 694.565), (\\'101 W 3RD ST\\', None, \\'DAYTON OH 45402 1814\\', 369.013), (\\'MUNICIPAL BG\\', None, \\'DAYTON OH 45402\\', 326.38), (\\'101 W 3RD ST\\', None, \\'DAYTON OH 45402 1814\\', 100.926)]\\nAnswer:', 'top_k': '5', 'dialect': 'sqlite', 'table_info': '\\nCREATE TABLE daytonprops (\\n\\t\"PARCELID\" TEXT, \\n\\t\"FULLYRAMTDUE\" REAL, \\n\\t\"NETDELQ\" REAL, \\n\\t\"PARCELLOCATION\" TEXT, \\n\\t\"LEGAL1\" TEXT, \\n\\t\"LEGAL2\" TEXT, \\n\\t\"LEGAL3\" TEXT, \\n\\t\"ACRES\" REAL, \\n\\t\"TXDST\" TEXT, \\n\\t\"CLS\" TEXT, \\n\\t\"LUC\" INTEGER, \\n\\t\"AGLAND\" INTEGER, \\n\\t\"ASMTLAND\" INTEGER, \\n\\t\"ASMTBLDG\" INTEGER, \\n\\t\"ASMTTOTAL\" INTEGER, \\n\\t\"TAXABLELAND\" INTEGER, \\n\\t\"TAXABLEBLDG\" INTEGER, \\n\\t\"PUBLICUTILITY\" INTEGER, \\n\\t\"ROLLTYPE\" TEXT, \\n\\t\"TAXABLETOTAL\" INTEGER, \\n\\t\"OWNERNAME1\" TEXT, \\n\\t\"OWNERNAME2\" TEXT, \\n\\t\"MAILINGNAME1\" TEXT, \\n\\t\"MAILINGNAME2\" TEXT, \\n\\t\"PADDR1\" TEXT, \\n\\t\"PADDR2\" TEXT, \\n\\t\"PADDR3\" TEXT, \\n\\t\"MORTCO\" INTEGER, \\n\\t\"NBHD\" TEXT, \\n\\t\"ASMTWEN\" TEXT, \\n\\t\"AC\" TEXT, \\n\\t\"HMSDLAND\" INTEGER, \\n\\t\"HMSDBLDG\" INTEGER, \\n\\t\"FRCLSR\" TEXT, \\n\\t\"SALESDTE\" TEXT, \\n\\t\"PRICE\" INTEGER, \\n\\t\"YRBL\" INTEGER, \\n\\t\"GROSSRATE\" REAL, \\n\\t\"EFFRATE\" REAL, \\n\\t\"REDRATE\" REAL, \\n\\t\"DUEDATE\" TEXT, \\n\\t\"B\" INTEGER, \\n\\t\"HLF1DELQ\" REAL, \\n\\t\"RENTALREG\" TEXT, \\n\\t\"AETASMTLAND\" INTEGER, \\n\\t\"AETASMTBLDG\" INTEGER, \\n\\t\"AETASMTTOTAL\" INTEGER, \\n\\t\"AETTAXABLELAND\" INTEGER, \\n\\t\"AETTAXABLEBLDG\" INTEGER, \\n\\t\"AETTAXABLETOTAL\" INTEGER, \\n\\t\"CASMTLAND\" INTEGER, \\n\\t\"CTAXABLELAND\" INTEGER, \\n\\t\"HMSDFLAG\" TEXT, \\n\\t\"SQ_FT\" INTEGER, \\n\\t\"DYTNCRDT\" TEXT, \\n\\t\"OWNOCC\" TEXT, \\n\\t\"CITY_TOWNSHIP\" INTEGER, \\n\\t\"SCHOOL_DISTRICT\" INTEGER, \\n\\t\"PARCEL_LOCATION_ZIP\" INTEGER, \\n\\t\"CENSUS_TRACT\" TEXT, \\n\\tlat REAL, \\n\\tlon REAL\\n)\\n\\n/*\\n3 rows from daytonprops table:\\nPARCELID\\tFULLYRAMTDUE\\tNETDELQ\\tPARCELLOCATION\\tLEGAL1\\tLEGAL2\\tLEGAL3\\tACRES\\tTXDST\\tCLS\\tLUC\\tAGLAND\\tASMTLAND\\tASMTBLDG\\tASMTTOTAL\\tTAXABLELAND\\tTAXABLEBLDG\\tPUBLICUTILITY\\tROLLTYPE\\tTAXABLETOTAL\\tOWNERNAME1\\tOWNERNAME2\\tMAILINGNAME1\\tMAILINGNAME2\\tPADDR1\\tPADDR2\\tPADDR3\\tMORTCO\\tNBHD\\tASMTWEN\\tAC\\tHMSDLAND\\tHMSDBLDG\\tFRCLSR\\tSALESDTE\\tPRICE\\tYRBL\\tGROSSRATE\\tEFFRATE\\tREDRATE\\tDUEDATE\\tB\\tHLF1DELQ\\tRENTALREG\\tAETASMTLAND\\tAETASMTBLDG\\tAETASMTTOTAL\\tAETTAXABLELAND\\tAETTAXABLEBLDG\\tAETTAXABLETOTAL\\tCASMTLAND\\tCTAXABLELAND\\tHMSDFLAG\\tSQ_FT\\tDYTNCRDT\\tOWNOCC\\tCITY_TOWNSHIP\\tSCHOOL_DISTRICT\\tPARCEL_LOCATION_ZIP\\tCENSUS_TRACT\\tlat\\tlon\\nR72 00101 0001\\t0.0\\t0.0\\tROBERT DR\\t126 PT RIVERBANK\\t1E(.008) 1E1(.007)\\tEXEMPT\\t1.146\\tR72\\tE\\t640\\t0\\t220\\t0\\t220\\t80\\t0\\t0\\tRP_OH\\t80\\tDAYTON CITY OF\\tNone\\tCITY OF DAYTON\\tNone\\t101 W 3RD ST\\tNone\\tDAYTON OH 45401\\t3001\\tC1500000\\t06-JAN-22\\tN\\t220\\t0\\tNone\\t02-JAN-03\\tNone\\tNone\\t116.28\\t107.133485\\t0.078659\\t15-JUL-22\\t2\\t0.0\\tN\\t0\\t0\\t0\\t0\\t0\\t0\\t0\\t0\\tN\\t0\\tN\\tN\\tNone\\tNone\\t45409\\t39113-001501-1\\t39.757987\\t-84.203876\\nR72 00101 0002\\t0.0\\t0.0\\tROBERT DR\\t126 PT\\tNone\\tNone\\t0.0\\tR72\\tE\\t670\\t0\\t220\\t0\\t220\\t80\\t0\\t0\\tRP_OH\\t80\\tMIAMI CONSERVANCY DIST\\tNone\\tMIAMI CONSERVANCY DIST\\tNone\\t38 E MONUMENT AVE\\tNone\\tDAYTON OH 45402 1210\\t3121\\tC1500000\\t06-JAN-22\\tN\\t220\\t0\\tNone\\tNone\\tNone\\tNone\\t116.28\\t107.133485\\t0.078659\\t15-JUL-22\\t2\\t0.0\\tN\\t0\\t0\\t0\\t0\\t0\\t0\\t0\\t0\\tN\\t0\\tN\\tN\\tNone\\tNone\\t45409\\t39113-001501-1\\t39.758832\\t-84.204194\\nR72 00101 0003\\t0.0\\t0.0\\tROBERT DR\\t125 PT\\tNone\\tNone\\t0.0\\tR72\\tE\\t665\\t0\\t220\\t0\\t220\\t80\\t0\\t0\\tRP_OH\\t80\\tMIAMI CONSERVANCY DIST\\tNone\\tMIAMI CONSERVANCY DIST\\tNone\\t38 E MONUMENT AVE\\tNone\\tDAYTON OH 45402 1210\\t3121\\tC1500000\\t06-JAN-22\\tN\\t220\\t0\\tNone\\tNone\\tNone\\tNone\\t116.28\\t107.133485\\t0.078659\\t15-JUL-22\\t2\\t0.0\\tN\\t0\\t0\\t0\\t0\\t0\\t0\\t0\\t0\\tN\\t0\\tN\\tN\\tNone\\tNone\\tNone\\t39113-001501-1\\t39.759657\\t-84.204154\\n*/', 'stop': ['\\nSQLResult:']}\n",
            "1: SELECT \"PADDR1\", \"PADDR2\", \"PADDR3\", \"ACRES\" FROM daytonprops WHERE \"OWNERNAME1\" = 'DAYTON CITY OF' ORDER BY \"ACRES\" DESC LIMIT 5;\n",
            "2: {'sql_cmd': 'SELECT \"PADDR1\", \"PADDR2\", \"PADDR3\", \"ACRES\" FROM daytonprops WHERE \"OWNERNAME1\" = \\'DAYTON CITY OF\\' ORDER BY \"ACRES\" DESC LIMIT 5;'}\n",
            "3: [('3600 TERMINAL DR STE 300', None, 'VANDALIA OH 45377', 879.2031), ('MUNICIPAL BG', None, 'DAYTON OH 45402', 694.565), ('101 W 3RD ST', None, 'DAYTON OH 45402 1814', 369.013), ('MUNICIPAL BG', None, 'DAYTON OH 45402', 326.38), ('101 W 3RD ST', None, 'DAYTON OH 45402 1814', 100.926)]\n",
            "4: {'input': 'what are the addresses of the 5 largest properties owned by the city?\\nSQLQuery:SELECT \"PADDR1\", \"PADDR2\", \"PADDR3\", \"ACRES\" FROM daytonprops WHERE \"OWNERNAME1\" = \\'DAYTON CITY OF\\' ORDER BY \"ACRES\" DESC LIMIT 5;\\nSQLResult: [(\\'3600 TERMINAL DR STE 300\\', None, \\'VANDALIA OH 45377\\', 879.2031), (\\'MUNICIPAL BG\\', None, \\'DAYTON OH 45402\\', 694.565), (\\'101 W 3RD ST\\', None, \\'DAYTON OH 45402 1814\\', 369.013), (\\'MUNICIPAL BG\\', None, \\'DAYTON OH 45402\\', 326.38), (\\'101 W 3RD ST\\', None, \\'DAYTON OH 45402 1814\\', 100.926)]\\nAnswer:', 'top_k': '5', 'dialect': 'sqlite', 'table_info': '\\nCREATE TABLE daytonprops (\\n\\t\"PARCELID\" TEXT, \\n\\t\"FULLYRAMTDUE\" REAL, \\n\\t\"NETDELQ\" REAL, \\n\\t\"PARCELLOCATION\" TEXT, \\n\\t\"LEGAL1\" TEXT, \\n\\t\"LEGAL2\" TEXT, \\n\\t\"LEGAL3\" TEXT, \\n\\t\"ACRES\" REAL, \\n\\t\"TXDST\" TEXT, \\n\\t\"CLS\" TEXT, \\n\\t\"LUC\" INTEGER, \\n\\t\"AGLAND\" INTEGER, \\n\\t\"ASMTLAND\" INTEGER, \\n\\t\"ASMTBLDG\" INTEGER, \\n\\t\"ASMTTOTAL\" INTEGER, \\n\\t\"TAXABLELAND\" INTEGER, \\n\\t\"TAXABLEBLDG\" INTEGER, \\n\\t\"PUBLICUTILITY\" INTEGER, \\n\\t\"ROLLTYPE\" TEXT, \\n\\t\"TAXABLETOTAL\" INTEGER, \\n\\t\"OWNERNAME1\" TEXT, \\n\\t\"OWNERNAME2\" TEXT, \\n\\t\"MAILINGNAME1\" TEXT, \\n\\t\"MAILINGNAME2\" TEXT, \\n\\t\"PADDR1\" TEXT, \\n\\t\"PADDR2\" TEXT, \\n\\t\"PADDR3\" TEXT, \\n\\t\"MORTCO\" INTEGER, \\n\\t\"NBHD\" TEXT, \\n\\t\"ASMTWEN\" TEXT, \\n\\t\"AC\" TEXT, \\n\\t\"HMSDLAND\" INTEGER, \\n\\t\"HMSDBLDG\" INTEGER, \\n\\t\"FRCLSR\" TEXT, \\n\\t\"SALESDTE\" TEXT, \\n\\t\"PRICE\" INTEGER, \\n\\t\"YRBL\" INTEGER, \\n\\t\"GROSSRATE\" REAL, \\n\\t\"EFFRATE\" REAL, \\n\\t\"REDRATE\" REAL, \\n\\t\"DUEDATE\" TEXT, \\n\\t\"B\" INTEGER, \\n\\t\"HLF1DELQ\" REAL, \\n\\t\"RENTALREG\" TEXT, \\n\\t\"AETASMTLAND\" INTEGER, \\n\\t\"AETASMTBLDG\" INTEGER, \\n\\t\"AETASMTTOTAL\" INTEGER, \\n\\t\"AETTAXABLELAND\" INTEGER, \\n\\t\"AETTAXABLEBLDG\" INTEGER, \\n\\t\"AETTAXABLETOTAL\" INTEGER, \\n\\t\"CASMTLAND\" INTEGER, \\n\\t\"CTAXABLELAND\" INTEGER, \\n\\t\"HMSDFLAG\" TEXT, \\n\\t\"SQ_FT\" INTEGER, \\n\\t\"DYTNCRDT\" TEXT, \\n\\t\"OWNOCC\" TEXT, \\n\\t\"CITY_TOWNSHIP\" INTEGER, \\n\\t\"SCHOOL_DISTRICT\" INTEGER, \\n\\t\"PARCEL_LOCATION_ZIP\" INTEGER, \\n\\t\"CENSUS_TRACT\" TEXT, \\n\\tlat REAL, \\n\\tlon REAL\\n)\\n\\n/*\\n3 rows from daytonprops table:\\nPARCELID\\tFULLYRAMTDUE\\tNETDELQ\\tPARCELLOCATION\\tLEGAL1\\tLEGAL2\\tLEGAL3\\tACRES\\tTXDST\\tCLS\\tLUC\\tAGLAND\\tASMTLAND\\tASMTBLDG\\tASMTTOTAL\\tTAXABLELAND\\tTAXABLEBLDG\\tPUBLICUTILITY\\tROLLTYPE\\tTAXABLETOTAL\\tOWNERNAME1\\tOWNERNAME2\\tMAILINGNAME1\\tMAILINGNAME2\\tPADDR1\\tPADDR2\\tPADDR3\\tMORTCO\\tNBHD\\tASMTWEN\\tAC\\tHMSDLAND\\tHMSDBLDG\\tFRCLSR\\tSALESDTE\\tPRICE\\tYRBL\\tGROSSRATE\\tEFFRATE\\tREDRATE\\tDUEDATE\\tB\\tHLF1DELQ\\tRENTALREG\\tAETASMTLAND\\tAETASMTBLDG\\tAETASMTTOTAL\\tAETTAXABLELAND\\tAETTAXABLEBLDG\\tAETTAXABLETOTAL\\tCASMTLAND\\tCTAXABLELAND\\tHMSDFLAG\\tSQ_FT\\tDYTNCRDT\\tOWNOCC\\tCITY_TOWNSHIP\\tSCHOOL_DISTRICT\\tPARCEL_LOCATION_ZIP\\tCENSUS_TRACT\\tlat\\tlon\\nR72 00101 0001\\t0.0\\t0.0\\tROBERT DR\\t126 PT RIVERBANK\\t1E(.008) 1E1(.007)\\tEXEMPT\\t1.146\\tR72\\tE\\t640\\t0\\t220\\t0\\t220\\t80\\t0\\t0\\tRP_OH\\t80\\tDAYTON CITY OF\\tNone\\tCITY OF DAYTON\\tNone\\t101 W 3RD ST\\tNone\\tDAYTON OH 45401\\t3001\\tC1500000\\t06-JAN-22\\tN\\t220\\t0\\tNone\\t02-JAN-03\\tNone\\tNone\\t116.28\\t107.133485\\t0.078659\\t15-JUL-22\\t2\\t0.0\\tN\\t0\\t0\\t0\\t0\\t0\\t0\\t0\\t0\\tN\\t0\\tN\\tN\\tNone\\tNone\\t45409\\t39113-001501-1\\t39.757987\\t-84.203876\\nR72 00101 0002\\t0.0\\t0.0\\tROBERT DR\\t126 PT\\tNone\\tNone\\t0.0\\tR72\\tE\\t670\\t0\\t220\\t0\\t220\\t80\\t0\\t0\\tRP_OH\\t80\\tMIAMI CONSERVANCY DIST\\tNone\\tMIAMI CONSERVANCY DIST\\tNone\\t38 E MONUMENT AVE\\tNone\\tDAYTON OH 45402 1210\\t3121\\tC1500000\\t06-JAN-22\\tN\\t220\\t0\\tNone\\tNone\\tNone\\tNone\\t116.28\\t107.133485\\t0.078659\\t15-JUL-22\\t2\\t0.0\\tN\\t0\\t0\\t0\\t0\\t0\\t0\\t0\\t0\\tN\\t0\\tN\\tN\\tNone\\tNone\\t45409\\t39113-001501-1\\t39.758832\\t-84.204194\\nR72 00101 0003\\t0.0\\t0.0\\tROBERT DR\\t125 PT\\tNone\\tNone\\t0.0\\tR72\\tE\\t665\\t0\\t220\\t0\\t220\\t80\\t0\\t0\\tRP_OH\\t80\\tMIAMI CONSERVANCY DIST\\tNone\\tMIAMI CONSERVANCY DIST\\tNone\\t38 E MONUMENT AVE\\tNone\\tDAYTON OH 45402 1210\\t3121\\tC1500000\\t06-JAN-22\\tN\\t220\\t0\\tNone\\tNone\\tNone\\tNone\\t116.28\\t107.133485\\t0.078659\\t15-JUL-22\\t2\\t0.0\\tN\\t0\\t0\\t0\\t0\\t0\\t0\\t0\\t0\\tN\\t0\\tN\\tN\\tNone\\tNone\\tNone\\t39113-001501-1\\t39.759657\\t-84.204154\\n*/', 'stop': ['\\nSQLResult:']}\n",
            "5: The 5 largest properties owned by the city are located at 3600 Terminal Dr Ste 300, Vandalia OH 45377 (879.2031 acres), Municipal BG, Dayton OH 45402 (694.565 acres), 101 W 3rd St, Dayton OH 45402 1814 (369.013 acres), Municipal BG, Dayton OH 45402 (326.38 acres), and 101 W 3rd St, Dayton OH 45402 1814 (100.926 acres).\n"
          ]
        }
      ],
      "source": [
        "print(\"0:\", result['intermediate_steps'][0])\n",
        "print(\"1:\", result['intermediate_steps'][1])\n",
        "print(\"2:\", result['intermediate_steps'][2])\n",
        "print(\"3:\", result['intermediate_steps'][3])\n",
        "print(\"4:\", result['intermediate_steps'][4])\n",
        "print(\"5:\", result['intermediate_steps'][5])"
      ]
    },
    {
      "cell_type": "code",
      "execution_count": null,
      "metadata": {
        "colab": {
          "base_uri": "https://localhost:8080/",
          "height": 178
        },
        "id": "d75sDxVRblSp",
        "outputId": "c10393fd-1199-4a83-b039-036105d6d4e4"
      },
      "outputs": [
        {
          "name": "stdout",
          "output_type": "stream",
          "text": [
            "\n",
            "\n",
            "\u001b[1m> Entering new SQLDatabaseChain chain...\u001b[0m\n",
            "How many properties are owned by the conservancy district?\n",
            "SQLQuery:\u001b[32;1m\u001b[1;3mSELECT COUNT(*) FROM daytonprops WHERE \"OWNERNAME1\" = 'MIAMI CONSERVANCY DIST'\u001b[0m\n",
            "SQLResult: \u001b[33;1m\u001b[1;3m[(62,)]\u001b[0m\n",
            "Answer:\u001b[32;1m\u001b[1;3mThe conservancy district owns 62 properties.\u001b[0m\n",
            "\u001b[1m> Finished chain.\u001b[0m\n"
          ]
        },
        {
          "data": {
            "application/vnd.google.colaboratory.intrinsic+json": {
              "type": "string"
            },
            "text/plain": [
              "'The conservancy district owns 62 properties.'"
            ]
          },
          "execution_count": 21,
          "metadata": {},
          "output_type": "execute_result"
        }
      ],
      "source": [
        "db_chain.run(\"How many properties are owned by the conservancy district?\")"
      ]
    },
    {
      "cell_type": "code",
      "execution_count": null,
      "metadata": {
        "colab": {
          "base_uri": "https://localhost:8080/",
          "height": 178
        },
        "id": "SL8H-8n8b-Qc",
        "outputId": "77ecbca1-e514-400e-a42b-86e8a4ebc011"
      },
      "outputs": [
        {
          "name": "stdout",
          "output_type": "stream",
          "text": [
            "\n",
            "\n",
            "\u001b[1m> Entering new SQLDatabaseChain chain...\u001b[0m\n",
            "What is the address of the property with the most acreage?\n",
            "SQLQuery:\u001b[32;1m\u001b[1;3mSELECT \"PADDR1\", \"PADDR2\", \"PADDR3\", MAX(\"ACRES\") FROM daytonprops;\u001b[0m\n",
            "SQLResult: \u001b[33;1m\u001b[1;3m[('131 N LUDLOW ST STE 1200', None, 'DAYTON OH 45402', 8896.0)]\u001b[0m\n",
            "Answer:\u001b[32;1m\u001b[1;3mThe property with the most acreage is located at 131 N Ludlow St Ste 1200, Dayton OH 45402.\u001b[0m\n",
            "\u001b[1m> Finished chain.\u001b[0m\n"
          ]
        },
        {
          "data": {
            "application/vnd.google.colaboratory.intrinsic+json": {
              "type": "string"
            },
            "text/plain": [
              "'The property with the most acreage is located at 131 N Ludlow St Ste 1200, Dayton OH 45402.'"
            ]
          },
          "execution_count": 23,
          "metadata": {},
          "output_type": "execute_result"
        }
      ],
      "source": [
        "db_chain.run(\"What is the address of the property with the most acreage?\")"
      ]
    },
    {
      "cell_type": "code",
      "execution_count": null,
      "metadata": {
        "colab": {
          "base_uri": "https://localhost:8080/",
          "height": 178
        },
        "id": "-axifVA3ewD0",
        "outputId": "79f06d08-9dab-472e-99de-0532579e5fd2"
      },
      "outputs": [
        {
          "name": "stdout",
          "output_type": "stream",
          "text": [
            "\n",
            "\n",
            "\u001b[1m> Entering new SQLDatabaseChain chain...\u001b[0m\n",
            "How many residential properties are in Dayton?\n",
            "SQLQuery:\u001b[32;1m\u001b[1;3mSELECT COUNT(*) FROM daytonprops WHERE CLS = 'E' AND LUC = 640;\u001b[0m\n",
            "SQLResult: \u001b[33;1m\u001b[1;3m[(1771,)]\u001b[0m\n",
            "Answer:\u001b[32;1m\u001b[1;3mThere are 1771 residential properties in Dayton.\u001b[0m\n",
            "\u001b[1m> Finished chain.\u001b[0m\n"
          ]
        },
        {
          "data": {
            "application/vnd.google.colaboratory.intrinsic+json": {
              "type": "string"
            },
            "text/plain": [
              "'There are 1771 residential properties in Dayton.'"
            ]
          },
          "execution_count": 42,
          "metadata": {},
          "output_type": "execute_result"
        }
      ],
      "source": [
        "db_chain.run(\"How many residential properties are in Dayton?\")"
      ]
    },
    {
      "cell_type": "code",
      "execution_count": null,
      "metadata": {
        "colab": {
          "base_uri": "https://localhost:8080/",
          "height": 178
        },
        "id": "EwUGbhvfbxq-",
        "outputId": "a78c82d4-f308-4eed-ce2e-275c6c9a72e1"
      },
      "outputs": [
        {
          "name": "stdout",
          "output_type": "stream",
          "text": [
            "\n",
            "\n",
            "\u001b[1m> Entering new SQLDatabaseChain chain...\u001b[0m\n",
            "How many properties with more than an acre are in dayton?\n",
            "SQLQuery:\u001b[32;1m\u001b[1;3mSELECT COUNT(*) FROM daytonprops WHERE ACRES > 1;\u001b[0m\n",
            "SQLResult: \u001b[33;1m\u001b[1;3m[(1640,)]\u001b[0m\n",
            "Answer:\u001b[32;1m\u001b[1;3mThere are 1640 properties with more than an acre in dayton.\u001b[0m\n",
            "\u001b[1m> Finished chain.\u001b[0m\n"
          ]
        },
        {
          "data": {
            "application/vnd.google.colaboratory.intrinsic+json": {
              "type": "string"
            },
            "text/plain": [
              "'There are 1640 properties with more than an acre in dayton.'"
            ]
          },
          "execution_count": 22,
          "metadata": {},
          "output_type": "execute_result"
        }
      ],
      "source": [
        "db_chain.run(\"How many properties with more than an acre are in dayton?\")"
      ]
    },
    {
      "cell_type": "code",
      "execution_count": null,
      "metadata": {
        "id": "NkCQyq_-kv5U"
      },
      "outputs": [],
      "source": [
        "\n"
      ]
    }
  ],
  "metadata": {
    "colab": {
      "provenance": []
    },
    "kernelspec": {
      "display_name": "Python 3",
      "name": "python3"
    },
    "language_info": {
      "name": "python",
      "version": "3.9.13"
    }
  },
  "nbformat": 4,
  "nbformat_minor": 0
}
